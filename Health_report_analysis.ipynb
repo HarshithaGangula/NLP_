{
  "nbformat": 4,
  "nbformat_minor": 0,
  "metadata": {
    "colab": {
      "provenance": []
    },
    "kernelspec": {
      "name": "python3",
      "display_name": "Python 3"
    },
    "language_info": {
      "name": "python"
    }
  },
  "cells": [
    {
      "cell_type": "code",
      "execution_count": 8,
      "metadata": {
        "id": "SniddoZkOV0x"
      },
      "outputs": [],
      "source": [
        "# Configure Gemini API\n",
        "import google.generativeai as genai\n",
        "from google.colab import userdata\n",
        "GOOGLE_API_KEY=userdata.get('GOOGLE_API_KEY')\n",
        "genai.configure(api_key=GOOGLE_API_KEY)\n"
      ]
    },
    {
      "cell_type": "code",
      "source": [
        "pip install PyPDF2"
      ],
      "metadata": {
        "colab": {
          "base_uri": "https://localhost:8080/"
        },
        "id": "kviRJD6eOYeT",
        "outputId": "87ddc6f1-c41d-41b9-9a68-808dc9b75b98"
      },
      "execution_count": 5,
      "outputs": [
        {
          "output_type": "stream",
          "name": "stdout",
          "text": [
            "Requirement already satisfied: PyPDF2 in /usr/local/lib/python3.11/dist-packages (3.0.1)\n"
          ]
        }
      ]
    },
    {
      "cell_type": "code",
      "source": [
        "import PyPDF2\n",
        "\n",
        "def extract_text_from_pdf(pdf_path):\n",
        "\n",
        "    \"\"\"Extracts text from a given health report PDF using PyPDF2.\"\"\"\n",
        "\n",
        "    text = \"\"\n",
        "\n",
        "    with open(pdf_path, \"rb\") as file:\n",
        "\n",
        "        reader = PyPDF2.PdfReader(file)\n",
        "\n",
        "        for page in reader.pages:\n",
        "\n",
        "            text += page.extract_text() + \"\\n\"\n",
        "\n",
        "    return text"
      ],
      "metadata": {
        "id": "NKW9kLQKPwTT"
      },
      "execution_count": 9,
      "outputs": []
    },
    {
      "cell_type": "code",
      "source": [
        "def extract_health_insights(text):\n",
        "  \"\"\"Asks Gemini AI to extract key medical insights from the report.\"\"\"\n",
        "  model=genai.GenerativeModel(\"gemini-1.5-flash\")\n",
        "  prompt=f\"Extract key insights from the following health report:\\n\\n{text}\"\n",
        "  response=model.generate_content(prompt)\n",
        "  return response.text\n",
        "pdf_file=\"health_report.pdf\"\n",
        "extracted_text=extract_text_from_pdf(pdf_file)\n",
        "insights=extract_health_insights(extracted_text)\n",
        "print(\"Key Insights:\\n\",insights)"
      ],
      "metadata": {
        "colab": {
          "base_uri": "https://localhost:8080/",
          "height": 505
        },
        "id": "Mstk2ay7P6r9",
        "outputId": "39aa0c42-0aa2-4a89-8e9b-accf13be4be8"
      },
      "execution_count": 11,
      "outputs": [
        {
          "output_type": "stream",
          "name": "stdout",
          "text": [
            "Key Insights:\n",
            " Key Insights from Mr. Kishan Goud's Health Report (MR2100003157):\n",
            "\n",
            "**Infectious Diseases:**\n",
            "\n",
            "* **Negative for Dengue:**  Tests for Dengue NS1 antigen, IgG, and IgM were all negative.\n",
            "* **Widal Test:** Elevated titers for *Salmonella Typhi* \"O\" (1:160) and \"H\" (1:80) suggest a possible past or current *Salmonella Typhi* infection.  The titers for *Salmonella Paratyphi* \"AH\" and \"BH\" are within the normal range.  Further investigation may be needed to confirm active infection.\n",
            "* **Negative for Malaria:** Rapid Malaria tests for *Plasmodium falciparum* and *Plasmodium vivax* were both negative.\n",
            "\n",
            "**Hematology:**\n",
            "\n",
            "* **Elevated ESR:**  Erythrocyte Sedimentation Rate (ESR) is significantly elevated (26 mm/hr in the first hour, 52 mm/hr in the second), indicating inflammation or infection.\n",
            "* **Complete Blood Count (CBC):**  Hemoglobin, RBC, WBC, platelets, and PCV are all within the normal range.  Differential count shows normal ranges for neutrophils, lymphocytes, eosinophils, monocytes, and basophils.  Peripheral blood smear shows normal RBC morphology and WBC count within normal limits.\n",
            "\n",
            "**Blood Chemistry:**\n",
            "\n",
            "* **HbA1c:**  Within the normal non-diabetic range (5.4%), indicating good blood sugar control.\n",
            "* **Random Blood Glucose:**  Within the normal range.\n",
            "* **Liver Function Tests (LFTs):**  All liver function tests (bilirubin, alkaline phosphatase, SGOT, SGPT, total protein, albumin, globulin, A/G ratio) are within normal ranges, suggesting normal liver function.\n",
            "* **Serum Creatinine:** Within the normal range, indicating normal kidney function.\n",
            "* **Serum Electrolytes:** Sodium is slightly low (122 mmol/l), while potassium and chloride are within the normal range.  The low sodium warrants further evaluation.\n",
            "\n",
            "\n",
            "**Overall:**\n",
            "\n",
            "The report shows elevated ESR and slightly low sodium levels along with positive Widal test results for *Salmonella Typhi*.  The other tests are largely unremarkable.  The elevated ESR supports the possibility of an active infection, and the positive Widal test is consistent with this, though it cannot definitively confirm a current infection.  The slightly low sodium requires further investigation and clinical correlation to determine its significance.  The doctor should interpret these results in the context of the patient's clinical presentation and history.\n",
            "\n"
          ]
        }
      ]
    },
    {
      "cell_type": "code",
      "source": [
        "def summarize_health_report(text):\n",
        "  \"\"\"Summarizes the health report using Gemini AI.\"\"\"\n",
        "  model=genai.GenerativeModel(\"gemini-1.5-flash\")\n",
        "  prompt=f\"Summarize the following health report:\\n\\n{text}\"\n",
        "  response=model.generate_content(prompt)\n",
        "  return response.text\n",
        "summary=summarize_health_report(extracted_text)\n",
        "print(\"Summary:\\n\",summary)"
      ],
      "metadata": {
        "colab": {
          "base_uri": "https://localhost:8080/",
          "height": 488
        },
        "id": "0u6FUcTmR9od",
        "outputId": "4e9affc0-4bf0-4ee7-8924-77d4a1ccccec"
      },
      "execution_count": 12,
      "outputs": [
        {
          "output_type": "stream",
          "name": "stdout",
          "text": [
            "Summary:\n",
            " Mr. Kishan Goud's (MRN: MR2100003157) blood tests on 01/02/2021 revealed:\n",
            "\n",
            "* **Widal Test:** Elevated titers for *Salmonella Typhi* \"O\" (1:160) and \"H\" (1:80), suggesting possible typhoid fever.  *Salmonella Paratyphi* \"AH\" and \"BH\" were within the normal range.\n",
            "\n",
            "* **Dengue Serology:** Negative for Dengue NS1 antigen, IgG, and IgM antibodies.\n",
            "\n",
            "* **ESR:** Elevated (26 mm/hr in the first hour, 52 mm/hr in the second hour), indicating inflammation.\n",
            "\n",
            "* **Malaria Test:** Negative for both *Plasmodium falciparum* and *Plasmodium vivax*.\n",
            "\n",
            "* **Complete Blood Picture (CBC):**  Hemoglobin, RBC, WBC, and platelet counts were within the normal range.  Differential count showed normal ranges for neutrophils, lymphocytes, eosinophils, monocytes, and basophils.\n",
            "\n",
            "* **HbA1c:** 5.4%, within the normal non-diabetic range.\n",
            "\n",
            "* **Serum Creatinine:** 0.8 mg/dl, within the normal range.\n",
            "\n",
            "* **Random Blood Glucose:**  Not provided in the summary.\n",
            "\n",
            "* **Liver Function Tests (LFTs):** All values (bilirubin, alkaline phosphatase, SGOT, SGPT, total protein, albumin, globulin, and A/G ratio) were within normal ranges.\n",
            "\n",
            "* **Serum Electrolytes:** Sodium (122 mmol/l) was slightly below the normal range; potassium and chloride were within normal limits.\n",
            "\n",
            "\n",
            "**In summary:** The most significant finding is the elevated Widal test titers suggesting a possible *Salmonella Typhi* infection (typhoid fever).  The elevated ESR supports the presence of inflammation.  Other tests were largely unremarkable.  Further clinical evaluation is likely needed to confirm the diagnosis and guide treatment.\n",
            "\n"
          ]
        }
      ]
    },
    {
      "cell_type": "markdown",
      "source": [
        "Detect Abnormal Lab Results\n"
      ],
      "metadata": {
        "id": "txafoTy-Udl7"
      }
    },
    {
      "cell_type": "code",
      "source": [
        "def detect_abnormalities(text):\n",
        "  \"\"\"Analyzes lab test results and flags abnormal values.\"\"\"\n",
        "  model=genai.GenerativeModel(\"gemini-1.5-flash\")\n",
        "  prompt=f\"Analyze the lab test results in the following health report and highlight any abnormal values:\\n\\n{text}\"\n",
        "  response=model.generate_content(prompt)\n",
        "  return response.text\n",
        "abnormalities = detect_abnormalities(extracted_text)\n",
        "print(\"Potential Abnormalities:\\n\",abnormalities)"
      ],
      "metadata": {
        "colab": {
          "base_uri": "https://localhost:8080/",
          "height": 384
        },
        "id": "VvajwpoAS2tI",
        "outputId": "133a60dc-b3e6-4fc1-b5a6-d642bd3cdf1d"
      },
      "execution_count": 16,
      "outputs": [
        {
          "output_type": "stream",
          "name": "stdout",
          "text": [
            "Potential Abnormalities:\n",
            " Based on the provided lab results, the following values are outside the biological reference ranges, indicating potential abnormalities:\n",
            "\n",
            "* **Widal Test:**  S. Typhi \"O\" (1:160) and S. Typhi \"H\" (1:80) are significantly higher than the reference range (1:20). This suggests a possible past or current infection with *Salmonella Typhi*, the bacteria that causes typhoid fever.  Further investigation is warranted to confirm.\n",
            "\n",
            "* **ESR (Erythrocyte Sedimentation Rate):** Both the 1st hour (26 mm/hr) and 2nd hour (52 mm/hr) values are considerably higher than the reference range (0-8 mm/hr for the 1st hour).  Elevated ESR indicates inflammation somewhere in the body.  The cause needs further investigation.\n",
            "\n",
            "* **Serum Sodium:** 122 mmol/l is below the reference range of 135-146 mmol/l. This indicates hyponatremia (low sodium levels in the blood), which can have various causes and requires further medical evaluation.\n",
            "\n",
            "* **Serum Chloride:** 97 mmol/l is below the reference range of 98-107 mmol/l.  This is mild hypochloremia (low chloride levels), which often accompanies hyponatremia.\n",
            "\n",
            "\n",
            "**Values within the normal range but warranting attention in context:**\n",
            "\n",
            "While the following values are within the reference ranges, they should be considered in the context of the other abnormal results:\n",
            "\n",
            "* **Lymphocytes:** 31% is at the higher end of the normal range (20-40%).  While not abnormal in isolation,  it could be a reaction to infection (considering the positive Widal test).\n",
            "\n",
            "The other test results (Dengue serology, Malaria tests, Complete Blood Picture, HbA1c, Creatinine, Blood Glucose, Liver Function Tests) all fall within the reference ranges.  However,  the abnormalities mentioned above require further investigation to determine the underlying cause(s).  This report alone isn't sufficient for diagnosis.  A physician needs to consider these results in the context of Mr. Kishan Goud's clinical presentation and history to determine the appropriate course of action.\n",
            "\n"
          ]
        }
      ]
    },
    {
      "cell_type": "markdown",
      "source": [
        "Explain Medical Terms"
      ],
      "metadata": {
        "id": "JSr3Gr-xWAer"
      }
    },
    {
      "cell_type": "code",
      "source": [
        "def explain_medical_terms(text):\n",
        "  \"\"\"Asks Gemini AI to simplify medical terms for patient understanding.\"\"\"\n",
        "  model=genai.GenerativeModel(\"gemini-1.5-flash\")\n",
        "  prompt=f\"Explain the model terms in the following health report in simple language:\\n\\n{text}\"\n",
        "  response=model.generate_content(prompt)\n",
        "  return response.text\n",
        "explation=explain_medical_terms(extracted_text)\n",
        "print(\"Simplified Explanation:\\n\",explation)"
      ],
      "metadata": {
        "colab": {
          "base_uri": "https://localhost:8080/",
          "height": 1000
        },
        "id": "q_7efv58VRpr",
        "outputId": "75123a5e-1ded-4ec0-cd93-37a7101ad44c"
      },
      "execution_count": 19,
      "outputs": [
        {
          "output_type": "stream",
          "name": "stdout",
          "text": [
            "Simplified Explanation:\n",
            " This report shows the results of various blood tests performed on Mr. Kishan Goud. Let's break down each section:\n",
            "\n",
            "**1. WIDAL Test:** This test checks for antibodies against *Salmonella* Typhi and *Salmonella* Paratyphi, bacteria that cause typhoid fever and paratyphoid fever, respectively.  The results are expressed as dilutions.  A higher number means a stronger antibody response, suggesting a possible infection.\n",
            "\n",
            "* **S. Typhi \"O\" 1:160:**  This is a higher than normal result (1:20 is the reference range). This suggests a possible past or present infection with *Salmonella* Typhi (the \"O\" refers to a specific antigen on the bacteria).\n",
            "* **S. Typhi \"H\" 1:80:** Also higher than normal, further supporting a possible *Salmonella* Typhi infection (\"H\" refers to a different antigen on the same bacteria).\n",
            "* **S. Paratyphi \"AH\" 1:20:** This result is within the normal range, suggesting no current infection with *Salmonella* Paratyphi A.\n",
            "* **S. Paratyphi \"BH\" 1:20:**  This result is within the normal range, suggesting no current infection with *Salmonella* Paratyphi B.\n",
            "\n",
            "**2. Dengue Serology:** This test checks for dengue fever.  The results are negative for all three markers tested:\n",
            "\n",
            "* **Dengue NS1 Antigen:** Negative –  This means the test didn't detect a protein produced early in dengue infection.\n",
            "* **Dengue IgG:** Negative – This means the test didn't detect antibodies that show past infection with dengue.\n",
            "* **Dengue IgM:** Negative – This means the test didn't detect antibodies that indicate a recent dengue infection.\n",
            "\n",
            "**3. Erythrocyte Sedimentation Rate (ESR):** This measures how quickly red blood cells settle in a test tube.  A higher rate often indicates inflammation in the body.\n",
            "\n",
            "* **ESR 1st Hour 26 mm/hr:** This is significantly higher than the normal range (0-8 mm/hr), suggesting inflammation.\n",
            "* **ESR 2nd Hour 52 mm/hr:** This further confirms significant inflammation.\n",
            "\n",
            "**4. Rapid Malaria Test:** This test checks for the presence of malaria parasites.  Both tests are negative:\n",
            "\n",
            "* **Rapid Malaria Test P.V:** Negative (for *Plasmodium vivax*)\n",
            "* **Rapid Malaria Test P.F:** Negative (for *Plasmodium falciparum*)\n",
            "\n",
            "**5. Complete Blood Picture (CBC):** This provides a comprehensive overview of blood components.  Most results are within normal limits:\n",
            "\n",
            "* **Hemoglobin (Hb):** 13.6 g/dL (Normal) – Measures the oxygen-carrying capacity of red blood cells.\n",
            "* **Red Blood Cells (RBC):** 4.3 million/cu mm (Slightly low, but within a reasonable margin) – Number of red blood cells.\n",
            "* **White Blood Cells (WBC):** 7,200 cells/cu mm (Normal) – Number of white blood cells, which fight infection.\n",
            "* **Platelets:** 2.0 lakhs/cu mm (Normal) – Cells involved in blood clotting.\n",
            "* **Packed Cell Volume (PCV):** 40.5% (Normal) – The percentage of red blood cells in the blood.\n",
            "* **Differential Count:** Shows the percentages of different types of white blood cells. All are within or near the normal ranges.\n",
            "* **Peripheral Blood Smear:**  A microscopic examination of the blood; describes the appearance of the blood cells as normal.\n",
            "\n",
            "**6. HbA1c:** This measures average blood sugar levels over the past 2-3 months.\n",
            "\n",
            "* **HbA1c 5.4%:** This is within the normal range for someone who isn't diabetic, indicating good blood sugar control.\n",
            "\n",
            "**7. Serum Creatinine:** This measures kidney function.\n",
            "\n",
            "* **Serum Creatinine 0.8 mg/dL:** This is within the normal range, indicating normal kidney function.\n",
            "\n",
            "**8. Random Blood Glucose:** This measures blood sugar levels at a particular time.\n",
            "\n",
            "* **Random Blood Glucose:**  The result isn't explicitly stated, but the reference range is provided (60-170 mg/dL).\n",
            "\n",
            "\n",
            "**9. Liver Function Test (LFT):**  These tests assess liver health.  All results are within the normal ranges except for a slightly elevated ESR (discussed above).\n",
            "\n",
            "* **Bilirubin (Total, Direct, Indirect):**  All within normal limits, indicating normal liver function related to bile production.\n",
            "* **Alkaline Phosphatase:**  Within normal limits, an enzyme involved in bone and liver function.\n",
            "* **SGOT (AST) and SGPT (ALT):**  Both are liver enzymes; both results are within normal ranges indicating no significant liver damage.\n",
            "* **Total Protein and Albumin:** Within normal ranges, indicating good liver protein synthesis.\n",
            "* **Globulin:** Represents a group of proteins; a calculation of albumin and globulin is done to get A/G ratio.\n",
            "* **A/G Ratio:** The ratio of albumin to globulin; it’s normal.\n",
            "\n",
            "**10. Serum Electrolytes:** These tests measure the levels of important minerals in the blood.\n",
            "\n",
            "* **Serum Sodium, Potassium, and Chloride:**  Sodium is slightly low; potassium and chloride are within normal ranges.  Electrolytes are crucial for fluid balance and other bodily functions.\n",
            "\n",
            "\n",
            "**In summary:**  Mr. Kishan Goud shows elevated ESR suggesting inflammation and possibly past or present *Salmonella* Typhi infection.  All other tests, including those for dengue, malaria, liver function, kidney function, and blood components, are generally within normal limits except for slightly low serum sodium.  The doctor will need to consider all results together to make a diagnosis and determine appropriate treatment.  It is crucial to consult with Dr. Krishna Prasad for interpretation and further medical advice.\n",
            "\n"
          ]
        }
      ]
    },
    {
      "cell_type": "code",
      "source": [
        "def ask_gemini_about_report(text,question):\n",
        "\n",
        "  \"\"\"Allows users to ask questions about their health report.\"\"\"\n",
        "  model=genai.GenerativeModel(\"gemini-1.5-flash\")\n",
        "  prompt=f\"The following is a health report:\\n\\n{text}\\n\\nAnswer the following question based on the report:\\n{question}\"\n",
        "  response=model.generate_content(prompt)\n",
        "  return response.text\n",
        "question = \"What is the patient's diagnosis?\"\n",
        "answer=ask_gemini_about_report(extracted_text,question)\n",
        "print(\"Answer:\\n\",answer )"
      ],
      "metadata": {
        "colab": {
          "base_uri": "https://localhost:8080/",
          "height": 89
        },
        "id": "rlinvNOEWtbZ",
        "outputId": "32f4ff60-d8b2-4863-d566-569bf4c1fbfa"
      },
      "execution_count": 20,
      "outputs": [
        {
          "output_type": "stream",
          "name": "stdout",
          "text": [
            "Answer:\n",
            " The provided lab report does not offer a diagnosis.  It presents the results of various tests, some showing values outside of the normal range (e.g., elevated ESR), but these results alone are insufficient to establish a diagnosis.  A physician would interpret these results in the context of the patient's symptoms, medical history, and physical examination to arrive at a diagnosis.\n",
            "\n"
          ]
        }
      ]
    },
    {
      "cell_type": "code",
      "source": [],
      "metadata": {
        "id": "zGwlzINYYC3-"
      },
      "execution_count": null,
      "outputs": []
    }
  ]
}