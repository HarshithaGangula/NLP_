{
 "cells": [
  {
   "cell_type": "code",
   "execution_count": null,
   "id": "39a4191c",
   "metadata": {},
   "outputs": [],
   "source": [
    "import sagemaker\n",
    "import boto3\n",
    "import pandas as pd\n",
    "sagemaker_session=sagemaker.Session()\n",
    "role=sagemaker.get_execution_role()\n",
    "bucket=sagemaker_session.default_bucket()\n",
    "prefix='nlp-model-demo'"
   ]
  },
  {
   "cell_type": "code",
   "execution_count": null,
   "id": "01db8ea7",
   "metadata": {},
   "outputs": [],
   "source": [
    "import sagemaker\n",
    "import boto3\n",
    "import pandas as pd\n",
    "# Initialize SageMaker session\n",
    "sagemaker_session = sagemaker.Session()\n",
    "# Get the SageMaker execution role\n",
    "role = sagemaker.get_execution_role()\n",
    "# S3 bucket for storing data\n",
    "bucket = sagemaker_session.default_bucket()\n",
    "prefix = \"nlp-model-demo\""
   ]
  },
  {
   "cell_type": "code",
   "execution_count": null,
   "id": "7dccb330",
   "metadata": {},
   "outputs": [],
   "source": [
    "df=pd.read_csv(\"Reviews.csv\")\n",
    "df=df[[\"Text\",\"Score\"]].dropna()\n",
    "df[\"Sentiment\"]=df[\"Score\"].apply(lambda x: 1 if x>3 else 0)\n",
    "df=df[['Text',\"Sentiment\"]]\n",
    "df.to_csv(\"processed_reviews.csv\",bucket,f\"{prefix}/preocesses_reviews.csv\")\n",
    "s3_train_data=f\"s3://{bucket}/{prefix}/preocessed_reviews.csv\"\n",
    "print(\"Data uploaded to:\",s3_train_data)"
   ]
  },
  {
   "cell_type": "code",
   "execution_count": null,
   "id": "795a2436",
   "metadata": {},
   "outputs": [],
   "source": [
    "%%writefile train.py\n",
    "import argparse\n",
    "import os\n",
    "import pandas as pd\n",
    "import joblib\n",
    "from sklearn.feature_extraction.text import TfidfVectorizer\n",
    "from sklearn.linear_model import LogisticRegression\n",
    "from sklearn.pipeline import Pipeline\n",
    "def train():\n",
    "    # Argument parser for SageMaker input\n",
    "    parser = argparse.ArgumentParser()\n",
    "    parser.add_argument(\"--train_data\", type=str, default=os.environ[\"SM_CHANNEL_TRAIN\"])\n",
    "    args = parser.parse_args()\n",
    "    # Load dataset from the provided path\n",
    "    train_data_path = os.path.join(args.train_data, \"processed_reviews.csv\")\n",
    "    df = pd.read_csv(train_data_path)\n",
    "    # Split data\n",
    "    X = df[\"Text\"]\n",
    "    y = df[\"Sentiment\"]\n",
    "# Create a text-processing pipeline\n",
    "    pipeline = Pipeline([\n",
    "        (\"tfidf\", TfidfVectorizer(stop_words=\"english\")),\n",
    "        (\"clf\", LogisticRegression())\n",
    "    ])\n",
    "    # Train model\n",
    "    pipeline.fit(X, y)\n",
    "    # Save trained model\n",
    "    model_path = os.path.join(\"/opt/ml/model\", \"model.joblib\")\n",
    "    joblib.dump(pipeline, model_path)\n",
    "    print(\"Model saved at\", model_path)\n",
    "if __name__ == \"__main__\":\n",
    "    train()"
   ]
  },
  {
   "cell_type": "code",
   "execution_count": null,
   "id": "fd7ab813",
   "metadata": {},
   "outputs": [],
   "source": [
    "from sagemaker.sklearn.estimator import SKLearn\n",
    "# Define SageMaker SKLearn Estimator\n",
    "sklearn_estimator = SKLearn(\n",
    "    entry_point=\"train.py\",\n",
    "    framework_version=\"0.23-1\",\n",
    "    instance_type=\"ml.m5.large\",\n",
    "    role=role,\n",
    "    sagemaker_session=sagemaker_session,\n",
    ")\n",
    "# Train the model on SageMaker\n",
    "sklearn_estimator.fit({\"train\": s3_train_data})"
   ]
  },
  {
   "cell_type": "code",
   "execution_count": null,
   "id": "895dfe9b",
   "metadata": {},
   "outputs": [],
   "source": [
    "%%writefile inference.py\n",
    "import joblib\n",
    "import os\n",
    "import json\n",
    "import pandas as pd\n",
    "# Load trained model\n",
    "def model_fn(model_dir):\n",
    "    model_path = os.path.join(model_dir, \"model.joblib\")\n",
    "    return joblib.load(model_path)\n",
    "# Parse input JSON\n",
    "def input_fn(request_body, request_content_type):\n",
    "    if request_content_type == \"application/json\":\n",
    "        data = json.loads(request_body)\n",
    "        return pd.DataFrame(data, columns=[\"Text\"])\n",
    "    else:\n",
    "        raise ValueError(\"Unsupported content type: {}\".format(request_content_type))\n",
    "# Generate predictions\n",
    "def predict_fn(input_data, model):\n",
    "    return model.predict(input_data[\"Text\"]).tolist()"
   ]
  },
  {
   "cell_type": "code",
   "execution_count": null,
   "id": "78ad8b48",
   "metadata": {},
   "outputs": [],
   "source": [
    "from sagemaker.sklearn.model import SKLearnModel\n",
    "# Get model path from training job\n",
    "model_data = sklearn_estimator.model_data\n",
    "# Create a SageMaker model\n",
    "sklearn_model = SKLearnModel(\n",
    "    model_data=model_data,\n",
    "    role=role,\n",
    "    entry_point=\"inference.py\",\n",
    "    framework_version=\"0.23-1\",\n",
    "    sagemaker_session=sagemaker_session,\n",
    ")\n",
    "# Deploy the model to a real-time endpoint\n",
    "predictor = sklearn_model.deploy(instance_type=\"ml.m5.large\", initial_instance_count=1)"
   ]
  },
  {
   "cell_type": "code",
   "execution_count": null,
   "id": "d185de68",
   "metadata": {},
   "outputs": [],
   "source": [
    "# Sample test data\n",
    "test_data = json.dumps([\"This product is amazing!\", \"Worst product ever.\"])\n",
    "response = predictor.predict(test_data)\n",
    "print(\"Predictions:\", response)"
   ]
  },
  {
   "cell_type": "code",
   "execution_count": null,
   "id": "c797a125",
   "metadata": {},
   "outputs": [],
   "source": [
    "# Delete the SageMaker endpoint\n",
    "predictor.delete_endpoint()"
   ]
  },
  {
   "cell_type": "code",
   "execution_count": null,
   "id": "0665a6ab",
   "metadata": {},
   "outputs": [],
   "source": []
  }
 ],
 "metadata": {
  "kernelspec": {
   "display_name": "Python 3 (ipykernel)",
   "language": "python",
   "name": "python3"
  },
  "language_info": {
   "codemirror_mode": {
    "name": "ipython",
    "version": 3
   },
   "file_extension": ".py",
   "mimetype": "text/x-python",
   "name": "python",
   "nbconvert_exporter": "python",
   "pygments_lexer": "ipython3",
   "version": "3.10.9"
  }
 },
 "nbformat": 4,
 "nbformat_minor": 5
}
