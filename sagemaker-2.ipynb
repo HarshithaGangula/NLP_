{
 "cells": [
  {
   "cell_type": "code",
   "execution_count": null,
   "id": "a7d7ff8e",
   "metadata": {},
   "outputs": [],
   "source": [
    "import boto3\n",
    "# Define S3 details\n",
    "bucket = \"sagemaker-eu-north-1-865459674645\"\n",
    "model_s3_key = \"model/model.joblib\"\n",
    "local_model_path = \"model.joblib\"\n",
    "# Download model from S3\n",
    "s3 = boto3.client(\"s3\")\n",
    "s3.download_file(bucket, model_s3_key, local_model_path)\n",
    "print(\"Model downloaded successfully!\")"
   ]
  },
  {
   "cell_type": "code",
   "execution_count": null,
   "id": "b65be725",
   "metadata": {},
   "outputs": [],
   "source": [
    "from flask import Flask, request, jsonify\n",
    "import joblib\n",
    "import pandas as pd\n",
    "# Load model\n",
    "model = joblib.load(\"model.joblib\")\n",
    "app = Flask(__name__)\n",
    "@app.route(\"/\")\n",
    "def home():\n",
    "    return \"SageMaker Sentiment Analysis API is running!\"\n",
    "@app.route(\"/predict\", methods=[\"POST\"])\n",
    "def predict():\n",
    "    try:\n",
    "        data = request.json\n",
    "        text = data[\"text\"]\n",
    "        prediction = model.predict(pd.DataFrame({\"Text\": [text]}))[0]\n",
    "        return jsonify({\"prediction\": int(prediction)})\n",
    "    except Exception as e:\n",
    "        return jsonify({\"error\": str(e)})\n",
    "if __name__ == \"__main__\":\n",
    "    app.run(host=\"0.0.0.0\", port=5000)"
   ]
  }
 ],
 "metadata": {
  "kernelspec": {
   "display_name": "Python 3 (ipykernel)",
   "language": "python",
   "name": "python3"
  },
  "language_info": {
   "codemirror_mode": {
    "name": "ipython",
    "version": 3
   },
   "file_extension": ".py",
   "mimetype": "text/x-python",
   "name": "python",
   "nbconvert_exporter": "python",
   "pygments_lexer": "ipython3",
   "version": "3.10.9"
  }
 },
 "nbformat": 4,
 "nbformat_minor": 5
}
