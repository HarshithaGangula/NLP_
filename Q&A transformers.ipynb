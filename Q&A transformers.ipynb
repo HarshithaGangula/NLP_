{
 "cells": [
  {
   "cell_type": "code",
   "execution_count": 1,
   "id": "7e54613f",
   "metadata": {},
   "outputs": [
    {
     "name": "stdout",
     "output_type": "stream",
     "text": [
      "Requirement already satisfied: transformers in c:\\users\\guna harshitha\\anaconda3\\lib\\site-packages (4.24.0)\n",
      "Requirement already satisfied: torch in c:\\users\\guna harshitha\\anaconda3\\lib\\site-packages (1.12.1)\n",
      "Requirement already satisfied: regex!=2019.12.17 in c:\\users\\guna harshitha\\anaconda3\\lib\\site-packages (from transformers) (2022.7.9)\n",
      "Requirement already satisfied: pyyaml>=5.1 in c:\\users\\guna harshitha\\anaconda3\\lib\\site-packages (from transformers) (6.0)\n",
      "Requirement already satisfied: filelock in c:\\users\\guna harshitha\\anaconda3\\lib\\site-packages (from transformers) (3.9.0)\n",
      "Requirement already satisfied: huggingface-hub<1.0,>=0.10.0 in c:\\users\\guna harshitha\\anaconda3\\lib\\site-packages (from transformers) (0.10.1)\n",
      "Requirement already satisfied: tokenizers!=0.11.3,<0.14,>=0.11.1 in c:\\users\\guna harshitha\\anaconda3\\lib\\site-packages (from transformers) (0.11.4)\n",
      "Requirement already satisfied: tqdm>=4.27 in c:\\users\\guna harshitha\\anaconda3\\lib\\site-packages (from transformers) (4.64.1)\n",
      "Requirement already satisfied: numpy>=1.17 in c:\\users\\guna harshitha\\anaconda3\\lib\\site-packages (from transformers) (1.26.4)\n",
      "Requirement already satisfied: packaging>=20.0 in c:\\users\\guna harshitha\\anaconda3\\lib\\site-packages (from transformers) (22.0)\n",
      "Requirement already satisfied: requests in c:\\users\\guna harshitha\\anaconda3\\lib\\site-packages (from transformers) (2.28.1)\n",
      "Requirement already satisfied: typing_extensions in c:\\users\\guna harshitha\\anaconda3\\lib\\site-packages (from torch) (4.12.2)\n",
      "Requirement already satisfied: colorama in c:\\users\\guna harshitha\\anaconda3\\lib\\site-packages (from tqdm>=4.27->transformers) (0.4.6)\n",
      "Requirement already satisfied: charset-normalizer<3,>=2 in c:\\users\\guna harshitha\\anaconda3\\lib\\site-packages (from requests->transformers) (2.0.4)\n",
      "Requirement already satisfied: certifi>=2017.4.17 in c:\\users\\guna harshitha\\anaconda3\\lib\\site-packages (from requests->transformers) (2022.12.7)\n",
      "Requirement already satisfied: idna<4,>=2.5 in c:\\users\\guna harshitha\\anaconda3\\lib\\site-packages (from requests->transformers) (3.4)\n",
      "Requirement already satisfied: urllib3<1.27,>=1.21.1 in c:\\users\\guna harshitha\\anaconda3\\lib\\site-packages (from requests->transformers) (1.26.14)\n"
     ]
    }
   ],
   "source": [
    "!pip install transformers torch"
   ]
  },
  {
   "cell_type": "code",
   "execution_count": 3,
   "id": "eaa71bba",
   "metadata": {},
   "outputs": [],
   "source": [
    "from transformers import BertForQuestionAnswering, BertTokenizer\n",
    "import torch\n",
    "# Load pre-trained BERT model and tokenizer\n",
    "model_name = \"deepset/bert-base-cased-squad2\"  # BERT trained on SQuAD 2.0\n",
    "tokenizer = BertTokenizer.from_pretrained(model_name)\n",
    "model = BertForQuestionAnswering.from_pretrained(model_name)"
   ]
  },
  {
   "cell_type": "code",
   "execution_count": 4,
   "id": "7cd5d828",
   "metadata": {},
   "outputs": [],
   "source": [
    "# Define the context (passage) and question\n",
    "\n",
    "context = \"\"\"The Eiffel Tower is a wrought-iron lattice tower on the Champ de Mars in Paris, France. \n",
    "It is named after the engineer Gustave Eiffel, whose company designed and built the tower.\"\"\"\n",
    "question = \"Who designed the Eiffel Tower?\"\n",
    "# Tokenize the input\n",
    "inputs = tokenizer(question, context, return_tensors=\"pt\")\n",
    "# Get model output (start and end index of answer)\n",
    "with torch.no_grad():\n",
    "    outputs = model(**inputs)\n",
    "    start_scores = outputs.start_logits\n",
    "    end_scores = outputs.end_logits"
   ]
  },
  {
   "cell_type": "code",
   "execution_count": 5,
   "id": "8a9be438",
   "metadata": {},
   "outputs": [
    {
     "name": "stdout",
     "output_type": "stream",
     "text": [
      "Answer: Gustave Eiffel\n"
     ]
    }
   ],
   "source": [
    "# Get the most probable answer span\n",
    "start_idx = torch.argmax(start_scores)\n",
    "end_idx = torch.argmax(end_scores) + 1\n",
    "# Decode the answer\n",
    "answer = tokenizer.convert_tokens_to_string(tokenizer.convert_ids_to_tokens(inputs[\"input_ids\"][0][start_idx:end_idx]))\n",
    "print(f\"Answer: {answer}\")"
   ]
  },
  {
   "cell_type": "code",
   "execution_count": 6,
   "id": "1ca7eb5c",
   "metadata": {},
   "outputs": [],
   "source": [
    "context1 =\"\"\"Coronavirus disease 2019 (COVID-19, also known as SARS-2) is a contagious disease \n",
    "caused by the coronavirus SARS-CoV-2. In January 2020, the disease spread worldwide, \n",
    "resulting in the COVID-19 pandemic.\"\"\"\n",
    "question1 = \"what is the cause for coronavirus?\"\n",
    "# Tokenize the input\n",
    "inputs = tokenizer(question1, context1, return_tensors=\"pt\")\n",
    "# Get model output (start and end index of answer)\n",
    "with torch.no_grad():\n",
    "    outputs = model(**inputs)\n",
    "    start_scores = outputs.start_logits\n",
    "    end_scores = outputs.end_logits"
   ]
  },
  {
   "cell_type": "code",
   "execution_count": 7,
   "id": "9f6c6479",
   "metadata": {},
   "outputs": [
    {
     "name": "stdout",
     "output_type": "stream",
     "text": [
      "Answer: SARS - CoV - 2\n"
     ]
    }
   ],
   "source": [
    "# Get the most probable answer span\n",
    "start_idx = torch.argmax(start_scores)\n",
    "end_idx = torch.argmax(end_scores) + 1\n",
    "# Decode the answer\n",
    "answer = tokenizer.convert_tokens_to_string(tokenizer.convert_ids_to_tokens(inputs[\"input_ids\"][0][start_idx:end_idx]))\n",
    "print(f\"Answer: {answer}\")"
   ]
  },
  {
   "cell_type": "code",
   "execution_count": null,
   "id": "bb0c25b4",
   "metadata": {},
   "outputs": [],
   "source": []
  }
 ],
 "metadata": {
  "kernelspec": {
   "display_name": "Python 3 (ipykernel)",
   "language": "python",
   "name": "python3"
  },
  "language_info": {
   "codemirror_mode": {
    "name": "ipython",
    "version": 3
   },
   "file_extension": ".py",
   "mimetype": "text/x-python",
   "name": "python",
   "nbconvert_exporter": "python",
   "pygments_lexer": "ipython3",
   "version": "3.10.9"
  }
 },
 "nbformat": 4,
 "nbformat_minor": 5
}
